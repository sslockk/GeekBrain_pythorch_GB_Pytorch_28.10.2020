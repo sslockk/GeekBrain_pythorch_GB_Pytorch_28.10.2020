{
 "cells": [
  {
   "cell_type": "markdown",
   "metadata": {},
   "source": [
    "Домашнее задание: \n",
    "* Добиться вразумительного результата от модели, собранной на занятии (7 угаданныx картинок из 10 предложенных на семинаре). Варианты изменений:\n",
    "        * изменение слоёв и их количества;\n",
    "        * изменение метода оптимизации; \n",
    "        * изменение процесса обучения; \n",
    "        * для продвинутых: преобразование данных transform\n",
    "* Переписать данный туториал на pytorch: https://www.tensorflow.org/tutorials/quickstart/beginner?hl=ru\n"
   ]
  },
  {
   "cell_type": "markdown",
   "metadata": {},
   "source": [
    "## 1) Добиться вразумительного результата от модели, собранной на занятии (7 угаданныx картинок из 10 предложенных на семинаре)."
   ]
  },
  {
   "cell_type": "code",
   "execution_count": 1,
   "metadata": {},
   "outputs": [],
   "source": [
    "import torch\n",
    "import torchvision\n",
    "import torchvision.transforms as transforms\n",
    "from torch import nn \n",
    "from torch import optim\n",
    "import torch.nn.functional as F\n",
    "import matplotlib.pyplot as plt ### воспользуемся для отображения изображения"
   ]
  },
  {
   "cell_type": "code",
   "execution_count": 2,
   "metadata": {},
   "outputs": [],
   "source": [
    "classes = ('plane', 'car', 'bird', 'cat',\n",
    "           'deer', 'dog', 'frog', 'horse', 'ship', 'truck')"
   ]
  },
  {
   "cell_type": "code",
   "execution_count": 3,
   "metadata": {},
   "outputs": [
    {
     "name": "stdout",
     "output_type": "stream",
     "text": [
      "Files already downloaded and verified\n"
     ]
    }
   ],
   "source": [
    "train_dataset = torchvision.datasets.CIFAR10(root='data/',\n",
    "                                             train=True,  \n",
    "                                             transform=transforms.ToTensor(), \n",
    "                                             download=True)"
   ]
  },
  {
   "cell_type": "code",
   "execution_count": 4,
   "metadata": {},
   "outputs": [
    {
     "name": "stdout",
     "output_type": "stream",
     "text": [
      "torch.Size([3, 32, 32])\n",
      "truck\n"
     ]
    }
   ],
   "source": [
    "image, label = train_dataset[1]\n",
    "print (image.size())\n",
    "print (classes[label])"
   ]
  },
  {
   "cell_type": "code",
   "execution_count": 5,
   "metadata": {},
   "outputs": [],
   "source": [
    "train_loader = torch.utils.data.DataLoader(dataset=train_dataset,\n",
    "                                           batch_size=64, \n",
    "                                           shuffle=True)"
   ]
  },
  {
   "cell_type": "code",
   "execution_count": 6,
   "metadata": {},
   "outputs": [
    {
     "name": "stdout",
     "output_type": "stream",
     "text": [
      "Files already downloaded and verified\n"
     ]
    }
   ],
   "source": [
    "# Тестовый набор\n",
    "test_dataset = torchvision.datasets.CIFAR10(root='data/', train=False,\n",
    "                                       download=True, transform=transforms.ToTensor())\n",
    "test_loader = torch.utils.data.DataLoader(test_dataset, batch_size=4,\n",
    "                                         shuffle=False)"
   ]
  },
  {
   "cell_type": "markdown",
   "metadata": {},
   "source": [
    "Определим следующую модель:"
   ]
  },
  {
   "cell_type": "code",
   "execution_count": 7,
   "metadata": {},
   "outputs": [
    {
     "name": "stdout",
     "output_type": "stream",
     "text": [
      "[1,   300] loss: 0.307\n",
      "[1,   600] loss: 0.263\n",
      "[2,   300] loss: 0.238\n",
      "[2,   600] loss: 0.225\n",
      "[3,   300] loss: 0.212\n",
      "[3,   600] loss: 0.205\n",
      "[4,   300] loss: 0.194\n",
      "[4,   600] loss: 0.193\n",
      "[5,   300] loss: 0.184\n",
      "[5,   600] loss: 0.181\n",
      "[6,   300] loss: 0.173\n",
      "[6,   600] loss: 0.173\n",
      "[7,   300] loss: 0.166\n",
      "[7,   600] loss: 0.167\n",
      "[8,   300] loss: 0.159\n",
      "[8,   600] loss: 0.157\n",
      "[9,   300] loss: 0.150\n",
      "[9,   600] loss: 0.151\n",
      "[10,   300] loss: 0.145\n",
      "[10,   600] loss: 0.148\n",
      "[11,   300] loss: 0.140\n",
      "[11,   600] loss: 0.139\n",
      "[12,   300] loss: 0.130\n",
      "[12,   600] loss: 0.135\n",
      "[13,   300] loss: 0.129\n",
      "[13,   600] loss: 0.128\n",
      "[14,   300] loss: 0.120\n",
      "[14,   600] loss: 0.125\n",
      "[15,   300] loss: 0.116\n",
      "[15,   600] loss: 0.120\n",
      "[16,   300] loss: 0.110\n",
      "[16,   600] loss: 0.113\n",
      "[17,   300] loss: 0.104\n",
      "[17,   600] loss: 0.110\n",
      "[18,   300] loss: 0.100\n",
      "[18,   600] loss: 0.103\n",
      "[19,   300] loss: 0.093\n",
      "[19,   600] loss: 0.098\n",
      "[20,   300] loss: 0.089\n",
      "[20,   600] loss: 0.094\n",
      "Training is finished!\n"
     ]
    }
   ],
   "source": [
    "class Net(nn.Module):\n",
    "    def __init__(self):\n",
    "        super().__init__()\n",
    "        self.conv1 = nn.Conv2d(3, 6, 3)\n",
    "        self.pool = nn.MaxPool2d(2, 2)\n",
    "#         self.dropout = nn.Dropout(p=0.05)\n",
    "        self.conv2 = nn.Conv2d(6, 16, 3)\n",
    "        self.conv3 = nn.Conv2d(16, 32, 3)\n",
    "        self.fc1 = nn.Linear(32 * 2 * 2, 512)\n",
    "        self.fc2 = nn.Linear(512, 256)\n",
    "        self.fc3 = nn.Linear(256, 84)\n",
    "        self.fc4 = nn.Linear(84, 10)\n",
    "\n",
    "    def forward(self, x):\n",
    "        x = self.pool(F.relu(self.conv1(x)))\n",
    "#         x = self.dropout(x)\n",
    "        x = self.pool(F.relu(self.conv2(x)))\n",
    "#         x = self.dropout(x)\n",
    "        x = self.pool(F.relu(self.conv3(x)))\n",
    "        x = x.view(-1, 32 * 2 * 2)\n",
    "#         print(x.size(0))\n",
    "        x = F.relu(self.fc1(x))\n",
    "        x = F.relu(self.fc2(x))\n",
    "        x = F.relu(self.fc3(x))\n",
    "        x = self.fc4(x)\n",
    "        return x\n",
    "\n",
    "net = Net().to(torch.device(\"cuda:0\"))\n",
    "\n",
    "\n",
    "criterion = nn.CrossEntropyLoss()\n",
    "optimizer = optim.Adam(net.parameters(), lr=0.001)\n",
    "\n",
    "\n",
    "\n",
    "for epoch in range(20):  \n",
    "    running_loss = 0.0\n",
    "    for i, data in enumerate(train_loader, 0):\n",
    "        inputs, labels = data[0], data[1]\n",
    "        inputs, labels = inputs.cuda(), labels.cuda()\n",
    "\n",
    "        # обнуляем градиент\n",
    "        optimizer.zero_grad()\n",
    "\n",
    "        outputs = net(inputs)\n",
    "        loss = criterion(outputs, labels)\n",
    "        loss.backward()\n",
    "        optimizer.step()\n",
    "\n",
    "        # выводим статистику о процессе обучения\n",
    "        running_loss += loss.item()\n",
    "        if i % 300 == 299:    # print every 300 mini-batches\n",
    "            print('[%d, %5d] loss: %.3f' %\n",
    "                  (epoch + 1, i + 1, running_loss / 2000))\n",
    "            running_loss = 0.0\n",
    "\n",
    "print('Training is finished!')"
   ]
  },
  {
   "cell_type": "markdown",
   "metadata": {},
   "source": [
    "#### Сохранение модели"
   ]
  },
  {
   "cell_type": "code",
   "execution_count": 8,
   "metadata": {},
   "outputs": [],
   "source": [
    "PATH = 'cifar_net_version_test_intro.pth'\n",
    "torch.save(net.state_dict(), PATH)"
   ]
  },
  {
   "cell_type": "code",
   "execution_count": 9,
   "metadata": {},
   "outputs": [
    {
     "name": "stdout",
     "output_type": "stream",
     "text": [
      "Model state_dict: \n",
      "conv1.weight  \\  torch.Size([6, 3, 3, 3])\n",
      "conv1.bias  \\  torch.Size([6])\n",
      "conv2.weight  \\  torch.Size([16, 6, 3, 3])\n",
      "conv2.bias  \\  torch.Size([16])\n",
      "conv3.weight  \\  torch.Size([32, 16, 3, 3])\n",
      "conv3.bias  \\  torch.Size([32])\n",
      "fc1.weight  \\  torch.Size([512, 128])\n",
      "fc1.bias  \\  torch.Size([512])\n",
      "fc2.weight  \\  torch.Size([256, 512])\n",
      "fc2.bias  \\  torch.Size([256])\n",
      "fc3.weight  \\  torch.Size([84, 256])\n",
      "fc3.bias  \\  torch.Size([84])\n",
      "fc4.weight  \\  torch.Size([10, 84])\n",
      "fc4.bias  \\  torch.Size([10])\n"
     ]
    }
   ],
   "source": [
    "print(\"Model state_dict: \")\n",
    "for param in net.state_dict():\n",
    "    print(param,\" \\ \", net.state_dict()[param].size())"
   ]
  },
  {
   "cell_type": "markdown",
   "metadata": {},
   "source": [
    "#### Загрузка и использование модели "
   ]
  },
  {
   "cell_type": "code",
   "execution_count": 10,
   "metadata": {},
   "outputs": [
    {
     "data": {
      "text/plain": [
       "<All keys matched successfully>"
      ]
     },
     "execution_count": 10,
     "metadata": {},
     "output_type": "execute_result"
    }
   ],
   "source": [
    "net = Net()\n",
    "net.load_state_dict(torch.load(PATH))"
   ]
  },
  {
   "cell_type": "code",
   "execution_count": 11,
   "metadata": {},
   "outputs": [],
   "source": [
    "data_iter = iter(test_loader)\n",
    "images, labels = data_iter.next()"
   ]
  },
  {
   "cell_type": "code",
   "execution_count": 12,
   "metadata": {},
   "outputs": [
    {
     "name": "stdout",
     "output_type": "stream",
     "text": [
      "GroundTruth:    cat  ship  ship plane\n"
     ]
    },
    {
     "data": {
      "image/png": "[encoded data removed]",
      "text/plain": [
       "<Figure size 432x288 with 1 Axes>"
      ]
     },
     "metadata": {
      "needs_background": "light"
     },
     "output_type": "display_data"
    }
   ],
   "source": [
    "outputs = net(images)\n",
    "imgs = torchvision.utils.make_grid(images)\n",
    "plt.imshow(imgs.permute(1, 2, 0).numpy())\n",
    "print('GroundTruth: ', ' '.join('%5s' % classes[labels[j]] for j in range(4)))"
   ]
  },
  {
   "cell_type": "code",
   "execution_count": 13,
   "metadata": {},
   "outputs": [
    {
     "name": "stdout",
     "output_type": "stream",
     "text": [
      "Predicted:    cat   car   car plane\n"
     ]
    }
   ],
   "source": [
    "_, predicted = torch.max(outputs, 1)\n",
    "\n",
    "print('Predicted: ', ' '.join('%5s' % classes[predicted[j]]\n",
    "                              for j in range(4)))"
   ]
  },
  {
   "cell_type": "code",
   "execution_count": 14,
   "metadata": {},
   "outputs": [
    {
     "name": "stdout",
     "output_type": "stream",
     "text": [
      "Accuracy of the network on the 10000 test images: 63 %\n"
     ]
    }
   ],
   "source": [
    "correct = 0\n",
    "total = 0\n",
    "with torch.no_grad():\n",
    "    for data in test_loader:\n",
    "        images, labels = data\n",
    "        outputs = net(images)\n",
    "        _, predicted = torch.max(outputs.data, 1)\n",
    "        total += labels.size(0)\n",
    "        correct += (predicted == labels).sum().item()\n",
    "\n",
    "print('Accuracy of the network on the 10000 test images: %d %%' % (\n",
    "    100 * correct / total))"
   ]
  },
  {
   "cell_type": "markdown",
   "metadata": {},
   "source": [
    "Выводы: Программа угадывает 63% классов картинок"
   ]
  },
  {
   "cell_type": "markdown",
   "metadata": {},
   "source": [
    "## 2) Переписать данный туториал на pytorch"
   ]
  },
  {
   "cell_type": "code",
   "execution_count": 15,
   "metadata": {},
   "outputs": [],
   "source": [
    "class Net(nn.Module):\n",
    "    def __init__(self):\n",
    "        super().__init__()\n",
    "        self.fc1 = nn.Linear(128)\n",
    "        self.dropout = nn.Dropout(p=0.2)\n",
    "        self.fc2 = nn.Linear(128, 10)\n",
    "\n",
    "    def forward(self, x):\n",
    "        x = x.view(-1, 28 * 28)\n",
    "        x = F.relu(self.fc1(x))\n",
    "        x = self.dropout(x)\n",
    "        x = F.softmax(self.fc2(x))\n",
    "        return x"
   ]
  }
 ],
 "metadata": {
  "kernelspec": {
   "display_name": "Python 3",
   "language": "python",
   "name": "python3"
  },
  "language_info": {
   "codemirror_mode": {
    "name": "ipython",
    "version": 3
   },
   "file_extension": ".py",
   "mimetype": "text/x-python",
   "name": "python",
   "nbconvert_exporter": "python",
   "pygments_lexer": "ipython3",
   "version": "3.7.7"
  }
 },
 "nbformat": 4,
 "nbformat_minor": 4
}
